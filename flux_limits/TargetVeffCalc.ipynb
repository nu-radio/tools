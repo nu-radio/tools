{
 "cells": [
  {
   "cell_type": "code",
   "execution_count": 9,
   "metadata": {},
   "outputs": [],
   "source": [
    "from fluxLimitUtils import *\n",
    "import numpy as np"
   ]
  },
  {
   "cell_type": "code",
   "execution_count": 10,
   "metadata": {},
   "outputs": [],
   "source": [
    "E = 1.0e9#energy in GeV\n",
    "Limit = 1.0e-9 #target E^2*Phi in (Gev*cm^-2*s^-1*sr^-1)"
   ]
  },
  {
   "cell_type": "code",
   "execution_count": 11,
   "metadata": {},
   "outputs": [],
   "source": [
    "epsilon = 1.0 # efficiency (combination of uptime and analysis efficiency)\n",
    "tLive = 5*365*24*3600 #calendar time for the deployment in seconds\n",
    "dLogE = 0.5 #width of the energy bin\n",
    "n90 = 2.44 #90% upper limit for no measuremt with 0 background (Feldmen Cousins)\n",
    "ln10 = np.log(10)"
   ]
  },
  {
   "cell_type": "code",
   "execution_count": 12,
   "metadata": {},
   "outputs": [
    {
     "name": "stdout",
     "output_type": "stream",
     "text": [
      "Lint = 120014160.653cm\n"
     ]
    }
   ],
   "source": [
    "Lint = intLen(E*1.0e9)*100.0 #interaction length in cm \n",
    "print('Lint = {}cm'.format(Lint))"
   ]
  },
  {
   "cell_type": "code",
   "execution_count": 13,
   "metadata": {},
   "outputs": [
    {
     "name": "stdout",
     "output_type": "stream",
     "text": [
      "n90 = 2.44\n",
      "E = 1000000000.0\n",
      "Lint = 120014160.653\n",
      "dLogE = 0.5\n",
      "ln10 = 2.30258509299\n",
      "epsilon = 1.0\n",
      "tLive = 157680000\n",
      "Limit = 1e-09\n"
     ]
    }
   ],
   "source": [
    "print('n90 = {}\\nE = {}\\nLint = {}\\ndLogE = {}\\nln10 = {}\\nepsilon = {}\\ntLive = {}\\nLimit = {}'.format(n90,E,Lint,dLogE,ln10,epsilon,tLive,Limit))"
   ]
  },
  {
   "cell_type": "code",
   "execution_count": 14,
   "metadata": {},
   "outputs": [],
   "source": [
    "Veff = (n90*E*Lint)/(dLogE*ln10*epsilon*tLive*Limit)"
   ]
  },
  {
   "cell_type": "code",
   "execution_count": 15,
   "metadata": {},
   "outputs": [
    {
     "name": "stdout",
     "output_type": "stream",
     "text": [
      "Toltal VeffOmega = 1613.09525674km^3*sr\n"
     ]
    }
   ],
   "source": [
    "print('Toltal VeffOmega = {}km^3*sr'.format(Veff/1.0e15))"
   ]
  },
  {
   "cell_type": "code",
   "execution_count": null,
   "metadata": {},
   "outputs": [],
   "source": []
  },
  {
   "cell_type": "code",
   "execution_count": null,
   "metadata": {},
   "outputs": [],
   "source": []
  }
 ],
 "metadata": {
  "kernelspec": {
   "display_name": "Python 2",
   "language": "python",
   "name": "python2"
  },
  "language_info": {
   "codemirror_mode": {
    "name": "ipython",
    "version": 2
   },
   "file_extension": ".py",
   "mimetype": "text/x-python",
   "name": "python",
   "nbconvert_exporter": "python",
   "pygments_lexer": "ipython2",
   "version": "2.7.12"
  }
 },
 "nbformat": 4,
 "nbformat_minor": 2
}
